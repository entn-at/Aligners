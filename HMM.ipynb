{
  "nbformat": 4,
  "nbformat_minor": 0,
  "metadata": {
    "colab": {
      "name": "HMM.ipynb",
      "provenance": [],
      "collapsed_sections": [],
      "authorship_tag": "ABX9TyPBxJl+79GVifvxhUNPkMmk",
      "include_colab_link": true
    },
    "kernelspec": {
      "name": "python3",
      "display_name": "Python 3"
    }
  },
  "cells": [
    {
      "cell_type": "markdown",
      "metadata": {
        "id": "view-in-github",
        "colab_type": "text"
      },
      "source": [
        "<a href=\"https://colab.research.google.com/github/shanguanma/Aligners/blob/master/HMM.ipynb\" target=\"_parent\"><img src=\"https://colab.research.google.com/assets/colab-badge.svg\" alt=\"Open In Colab\"/></a>"
      ]
    },
    {
      "cell_type": "markdown",
      "metadata": {
        "id": "Jz4vSWmSFtLl",
        "colab_type": "text"
      },
      "source": [
        "# Implementation of HMM algorithms\n",
        "\n",
        "# Choosing the appropriate data structures\n",
        "\n",
        "You can choose any data structure to represent your HMM as long as your implementation works. The important thing to bear in mind is that your nodel needs to contain:\n",
        "\n",
        "- N states\n",
        "  Represented by characters, strings or numbers. It can include the first and the last state explicity.\n",
        "- A set of transition probabilities$\\{{a_{aj}}\\}$\n",
        "\n",
        "  ${a_{kj}} = P(\\pi(i)= j |\\pi(i-1) =k) $\n",
        "\n",
        "  The probability of being in the state j at step i given that at step i-1 we were in the state k.\n",
        "- A set of emission probabilities$\\{{e_k(c)}\\}$\n",
        "  $e_k(c) = P(s_i = c | \\pi(i) = k)$\n",
        "\n",
        "  The probability of observing the symbol c at the i-th position sequence given that at the i-th step we are in the state k.\n",
        "\n",
        "One possible representation is described below.\n"
      ]
    },
    {
      "cell_type": "markdown",
      "metadata": {
        "id": "5zPoKvKyNCQs",
        "colab_type": "text"
      },
      "source": [
        "# States\n",
        "\n",
        "States are represented as a list of characters.\n"
      ]
    },
    {
      "cell_type": "code",
      "metadata": {
        "id": "YtvoqVT5NQOw",
        "colab_type": "code",
        "colab": {}
      },
      "source": [
        "states = ['b','y','n','e']"
      ],
      "execution_count": 0,
      "outputs": []
    },
    {
      "cell_type": "markdown",
      "metadata": {
        "id": "_MwQoB2XNbu0",
        "colab_type": "text"
      },
      "source": [
        "# Transtions\n",
        "\n",
        "Transitions are represented as a dictionary where keys are tuples and values are transition probabilities. \n",
        "\n",
        "The first element of tuple is the state from which we transition and the second element is the state we transition to."
      ]
    },
    {
      "cell_type": "code",
      "metadata": {
        "id": "a-GarnrVgQKL",
        "colab_type": "code",
        "colab": {}
      },
      "source": [
        "transitions = {('b','y') : 0.2,\n",
        "               ('b','n') : 0.8,\n",
        "               ('y','y') : 0.7,\n",
        "               ('y','n') : 0.2,\n",
        "               ('y','e') : 0.1,\n",
        "               ('n','n') : 0.8,\n",
        "               ('n','y') : 0.1,\n",
        "               ('n','e') : 0.1}\n",
        "               "
      ],
      "execution_count": 0,
      "outputs": []
    },
    {
      "cell_type": "markdown",
      "metadata": {
        "id": "8Z8KpAM7lijv",
        "colab_type": "text"
      },
      "source": [
        "# Emission\n",
        "\n",
        "Emissions are represented as a dictionary where keys are states and values are dictionaries. The internal dictionaries contain emitted symbols as keys and emission probabilities as values."
      ]
    },
    {
      "cell_type": "code",
      "metadata": {
        "id": "vcQ5JsWDnH1l",
        "colab_type": "code",
        "colab": {}
      },
      "source": [
        "emissions = {'y' : {'A':0.1, 'C':0.4, 'G':0.4, 'T':0.1},\n",
        "            'n': {'A': 0.25, 'C': 0.25,'G':0.25,'T':0.25}}"
      ],
      "execution_count": 0,
      "outputs": []
    },
    {
      "cell_type": "markdown",
      "metadata": {
        "id": "EvAVMgnTrY4V",
        "colab_type": "text"
      },
      "source": [
        "# Sequence\n",
        "\n",
        "The sequence is simply a string."
      ]
    },
    {
      "cell_type": "code",
      "metadata": {
        "id": "kO5WkRmkrijX",
        "colab_type": "code",
        "colab": {}
      },
      "source": [
        "sequence = 'ATGCG'"
      ],
      "execution_count": 0,
      "outputs": []
    },
    {
      "cell_type": "markdown",
      "metadata": {
        "id": "Jgzw75PTrt9h",
        "colab_type": "text"
      },
      "source": [
        "# Initializing matrices\n",
        "\n",
        "We can write a simple utility function to initialize matrices that will be useful afterwards.It takes the desired number of rows, the desired of columns and the value to fill the matrix . If the third parameter is not provided, the matrix is filled with zeros by default."
      ]
    },
    {
      "cell_type": "code",
      "metadata": {
        "id": "apN0EAJNssyR",
        "colab_type": "code",
        "colab": {}
      },
      "source": [
        "def initialize_matrix(dim1, dim2, value=0):\n",
        "    F = []\n",
        "    for i in range(0, dim1):\n",
        "        F.append([])\n",
        "        for j in range(0,dim2):\n",
        "            F[i].append(value)\n",
        "    return F\n",
        "            "
      ],
      "execution_count": 0,
      "outputs": []
    },
    {
      "cell_type": "markdown",
      "metadata": {
        "id": "MJAXaM3yt23h",
        "colab_type": "text"
      },
      "source": [
        "# Visualizing matrices\n",
        "\n",
        "For visualization purposed only we implement some printing functions. They are not important for the sake of the solution and the details of the implementation can be ignored."
      ]
    },
    {
      "cell_type": "code",
      "metadata": {
        "id": "diVBN_7-uZRa",
        "colab_type": "code",
        "colab": {}
      },
      "source": [
        "def print_matrix(matrix, axis1,axis2):\n",
        "    w = '{:<10}'\n",
        "    print(w.format('') + w.format('0') + ''.join([w.format(char) for char in axis2]) + w.format('0'))\n",
        "    for i, row in enumerate(matrix):\n",
        "        print(w.format(axis1[i]) + ''.join(['{:<10.2e}'.format(item) for item in row]))\n",
        "\n",
        "def print_matrix_p(maxtrix, axis1, axis2):\n",
        "    w = '{:<10}'\n",
        "    print(w.format('') + w.format('0') + ''.join([w.format(char) for char in axis2])+w.format('0'))\n",
        "    for i, row in enumerate(matrix):\n",
        "        print(w.format(axis1[i]) + ''.join(['{:<10s}'.format(item) for item in row]))\n"
      ],
      "execution_count": 0,
      "outputs": []
    },
    {
      "cell_type": "markdown",
      "metadata": {
        "id": "OJQul0fjDriP",
        "colab_type": "text"
      },
      "source": [
        "# Forward algorithm\n",
        "\n",
        "We start by initializing matrix F that will contain as many rows as there are states and as many columns as there are symbols in the sequence plus two additional columns (the first and the last). The probability of starting from the begin state is 1 so we set the first elements of the matrix to 1."
      ]
    },
    {
      "cell_type": "code",
      "metadata": {
        "id": "HLmabpDXEfFG",
        "colab_type": "code",
        "colab": {
          "base_uri": "https://localhost:8080/",
          "height": 122
        },
        "outputId": "593cdaa3-a7fa-4102-ec1a-03256e02f3cf"
      },
      "source": [
        "F = initialize_matrix(len(states), len(sequence)+2)\n",
        "F[0][0] = 1\n",
        "print_matrix(F,states, sequence)"
      ],
      "execution_count": 9,
      "outputs": [
        {
          "output_type": "stream",
          "text": [
            "          0         A         T         G         C         G         0         \n",
            "b         1.00e+00  0.00e+00  0.00e+00  0.00e+00  0.00e+00  0.00e+00  0.00e+00  \n",
            "y         0.00e+00  0.00e+00  0.00e+00  0.00e+00  0.00e+00  0.00e+00  0.00e+00  \n",
            "n         0.00e+00  0.00e+00  0.00e+00  0.00e+00  0.00e+00  0.00e+00  0.00e+00  \n",
            "e         0.00e+00  0.00e+00  0.00e+00  0.00e+00  0.00e+00  0.00e+00  0.00e+00  \n"
          ],
          "name": "stdout"
        }
      ]
    },
    {
      "cell_type": "markdown",
      "metadata": {
        "id": "GaO890QKHpf-",
        "colab_type": "text"
      },
      "source": [
        "Next, we calculate the values for the first symbol. For each state, it is the probability of transitioning from the begin state to the current state times the probability of emitting the first symbol of the sequence in the current state."
      ]
    },
    {
      "cell_type": "code",
      "metadata": {
        "id": "meF9xNooIV4o",
        "colab_type": "code",
        "colab": {
          "base_uri": "https://localhost:8080/",
          "height": 122
        },
        "outputId": "c2440d78-a71e-4187-d09f-a890a3cb9603"
      },
      "source": [
        "for i in range(1, len(states) -1):\n",
        "    F[i][1] = transitions[(states[0],states[i])] * emissions[states[i]][sequence[0]]\n",
        "\n",
        "print_matrix(F, states, sequence)\n",
        "# F[1][1] = transitions[states[0],states[1]] * emissions[states[1]][sequence[0]]\n",
        "# F[1][1] = transitions[('b','y')] * emissions['y']['A']\n",
        "# F[1][1] = 0.2 * 0.1 \n",
        "# F[1][1] = 0.02\n",
        "# F[1][1] = 2.00e-02\n",
        "# F[2][1] = transitions[states[0],states[2]] * emissions[states[2]][sequence[0]]\n",
        "# F[2][1] = transitions[('b','n')] * emissioms['n']['A']\n",
        "# F[2][1] = 0.8 * 0.25\n",
        "# F[2][1] = 0.2\n",
        "# F[2][1] = 2.00e-01\n",
        "# F[3][1] = transitions[states[0],states[3]] * emissions[states[3]][sequence[0]]\n",
        "# F[3][1] = transitions[('b','e')] * emissions['e']['A']\n",
        "# F[3][1] = 0 * 0\n",
        "# F[3][1] = 0\n",
        "# F[3][1] = 0.00e+00"
      ],
      "execution_count": 14,
      "outputs": [
        {
          "output_type": "stream",
          "text": [
            "          0         A         T         G         C         G         0         \n",
            "b         1.00e+00  0.00e+00  0.00e+00  0.00e+00  0.00e+00  0.00e+00  0.00e+00  \n",
            "y         0.00e+00  2.00e-02  0.00e+00  0.00e+00  0.00e+00  0.00e+00  0.00e+00  \n",
            "n         0.00e+00  2.00e-01  0.00e+00  0.00e+00  0.00e+00  0.00e+00  0.00e+00  \n",
            "e         0.00e+00  0.00e+00  0.00e+00  0.00e+00  0.00e+00  0.00e+00  0.00e+00  \n"
          ],
          "name": "stdout"
        }
      ]
    },
    {
      "cell_type": "markdown",
      "metadata": {
        "id": "jwdUun3bRDRd",
        "colab_type": "text"
      },
      "source": [
        "For all of the other symbols, from the second to the last, we calculate the values as the sum of probabilities. For each state, it is the sum of probabilities of transitioning form any previous state to the current states times the probability of emitting the corresponding symbol of the sequence in the current state times the probability of the previous state."
      ]
    },
    {
      "cell_type": "code",
      "metadata": {
        "id": "mrIeQ2P2R_hQ",
        "colab_type": "code",
        "colab": {
          "base_uri": "https://localhost:8080/",
          "height": 122
        },
        "outputId": "af21415f-71fb-4642-8a2f-76fd2aa5d720"
      },
      "source": [
        "# loops on the symbols ,from second symbol to last specify symbol (e.g: 0)\n",
        "for j in range(2, len(sequence) + 1):\n",
        "    # loops on the states, from second state to last state\n",
        "    for i in range(1, len(states) - 1 ):\n",
        "        p_sum = 0\n",
        "        # loops on all of the possible previous states \n",
        "        for k in range(1, len(states) - 1):\n",
        "            p_sum += F[k][j-1] * transitions[(states[k],states[i])] * emissions[states[i]][sequence[j-1]]\n",
        "        F[i][j] = p_sum\n",
        "\n",
        "print_matrix(F, states, sequence)\n",
        "\n",
        "\n"
      ],
      "execution_count": 16,
      "outputs": [
        {
          "output_type": "stream",
          "text": [
            "          0         A         T         G         C         G         0         \n",
            "b         1.00e+00  0.00e+00  0.00e+00  0.00e+00  0.00e+00  0.00e+00  0.00e+00  \n",
            "y         0.00e+00  2.00e-02  3.40e-03  2.59e-03  1.06e-03  3.69e-04  0.00e+00  \n",
            "n         0.00e+00  2.00e-01  4.10e-02  8.37e-03  1.80e-03  4.14e-04  0.00e+00  \n",
            "e         0.00e+00  0.00e+00  0.00e+00  0.00e+00  0.00e+00  0.00e+00  0.00e+00  \n"
          ],
          "name": "stdout"
        }
      ]
    },
    {
      "cell_type": "markdown",
      "metadata": {
        "id": "fn8uA_71bcP9",
        "colab_type": "text"
      },
      "source": [
        "Now, we need to calculate the final value. It is the sum of probabilities of transitioning from any previous state to the end state times the probability of the previous state."
      ]
    },
    {
      "cell_type": "code",
      "metadata": {
        "id": "EIZ1biNecR7l",
        "colab_type": "code",
        "colab": {
          "base_uri": "https://localhost:8080/",
          "height": 122
        },
        "outputId": "65e0b215-c564-4baa-8b83-284db807a0e1"
      },
      "source": [
        "p_sum = 0\n",
        "for k in range(1, len(states) - 1 ):\n",
        "    p_sum += F[k][len(sequence)] * transitions[(states[k], states[-1])]\n",
        "\n",
        "F[-1][-1] = p_sum\n",
        "print_matrix(F, states, sequence)\n"
      ],
      "execution_count": 17,
      "outputs": [
        {
          "output_type": "stream",
          "text": [
            "          0         A         T         G         C         G         0         \n",
            "b         1.00e+00  0.00e+00  0.00e+00  0.00e+00  0.00e+00  0.00e+00  0.00e+00  \n",
            "y         0.00e+00  2.00e-02  3.40e-03  2.59e-03  1.06e-03  3.69e-04  0.00e+00  \n",
            "n         0.00e+00  2.00e-01  4.10e-02  8.37e-03  1.80e-03  4.14e-04  0.00e+00  \n",
            "e         0.00e+00  0.00e+00  0.00e+00  0.00e+00  0.00e+00  0.00e+00  7.83e-05  \n"
          ],
          "name": "stdout"
        }
      ]
    },
    {
      "cell_type": "markdown",
      "metadata": {
        "id": "RAxU4M48c9qS",
        "colab_type": "text"
      },
      "source": [
        "We can now put everything into a function that takes states, transitions, emissions and a sequence and returns a matrix F."
      ]
    }
  ]
}
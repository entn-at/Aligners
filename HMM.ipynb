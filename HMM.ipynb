{
  "nbformat": 4,
  "nbformat_minor": 0,
  "metadata": {
    "colab": {
      "name": "HMM.ipynb",
      "provenance": [],
      "collapsed_sections": [],
      "authorship_tag": "ABX9TyPPvcZtywj17LnjCIw/FZm2",
      "include_colab_link": true
    },
    "kernelspec": {
      "name": "python3",
      "display_name": "Python 3"
    }
  },
  "cells": [
    {
      "cell_type": "markdown",
      "metadata": {
        "id": "view-in-github",
        "colab_type": "text"
      },
      "source": [
        "<a href=\"https://colab.research.google.com/github/shanguanma/Aligners/blob/master/HMM.ipynb\" target=\"_parent\"><img src=\"https://colab.research.google.com/assets/colab-badge.svg\" alt=\"Open In Colab\"/></a>"
      ]
    },
    {
      "cell_type": "markdown",
      "metadata": {
        "id": "Jz4vSWmSFtLl",
        "colab_type": "text"
      },
      "source": [
        "# Implementation of HMM algorithms\n",
        "\n",
        "# Choosing the appropriate data structures\n",
        "\n",
        "You can choose any data structure to represent your HMM as long as your implementation works. The important thing to bear in mind is that your nodel needs to contain:\n",
        "\n",
        "- N states\n",
        "  Represented by characters, strings or numbers. It can include the first and the last state explicity.\n",
        "- A set of transition probabilities$\\{{a_{aj}}\\}$\n",
        "\n",
        "  ${a_{kj}} = P(\\pi(i)= j |\\pi(i-1) =k) $\n",
        "\n",
        "  The probability of being in the state j at step i given that at step i-1 we were in the state k.\n",
        "- A set of emission probabilities$\\{{e_k(c)}\\}$\n",
        "  $e_k(c) = P(s_i = c | \\pi(i) = k)$\n",
        "\n",
        "  The probability of observing the symbol c at the i-th position sequence given that at the i-th step we are in the state k.\n",
        "\n",
        "One possible representation is described below.\n"
      ]
    },
    {
      "cell_type": "markdown",
      "metadata": {
        "id": "5zPoKvKyNCQs",
        "colab_type": "text"
      },
      "source": [
        "# States\n",
        "\n",
        "States are represented as a list of characters.\n"
      ]
    },
    {
      "cell_type": "code",
      "metadata": {
        "id": "YtvoqVT5NQOw",
        "colab_type": "code",
        "colab": {}
      },
      "source": [
        "states = ['b','y','n','e']"
      ],
      "execution_count": 0,
      "outputs": []
    },
    {
      "cell_type": "markdown",
      "metadata": {
        "id": "_MwQoB2XNbu0",
        "colab_type": "text"
      },
      "source": [
        "# Transtions\n",
        "\n",
        "Transitions are represented as a dictionary where keys are tuples and values are transition probabilities. \n",
        "\n",
        "The first element of tuple is the state from which we transition and the second element is the state we transition to."
      ]
    },
    {
      "cell_type": "code",
      "metadata": {
        "id": "a-GarnrVgQKL",
        "colab_type": "code",
        "colab": {}
      },
      "source": [
        "transitions = {('b','y') : 0.2,\n",
        "               ('b','n') : 0.8,\n",
        "               ('y','y') : 0.7,\n",
        "               ('y','n') : 0.2,\n",
        "               ('y','e') : 0.1,\n",
        "               ('n','n') : 0.8,\n",
        "               ('n','y') : 0.1,\n",
        "               ('n','e') : 0.1}\n",
        "               "
      ],
      "execution_count": 0,
      "outputs": []
    },
    {
      "cell_type": "markdown",
      "metadata": {
        "id": "8Z8KpAM7lijv",
        "colab_type": "text"
      },
      "source": [
        "# Emission\n",
        "\n",
        "Emissions are represented as a dictionary where keys are states and values are dictionaries. The internal dictionaries contain emitted symbols as keys and emission probabilities as values."
      ]
    },
    {
      "cell_type": "code",
      "metadata": {
        "id": "vcQ5JsWDnH1l",
        "colab_type": "code",
        "colab": {}
      },
      "source": [
        "emissions = {'y' : {'A':0.1, 'C':0.4, 'G':0.4, 'T':0.1},\n",
        "            'n': {'A': 0.25, 'C': 0.25,'G':0.25,'T':0.25}}"
      ],
      "execution_count": 0,
      "outputs": []
    },
    {
      "cell_type": "markdown",
      "metadata": {
        "id": "EvAVMgnTrY4V",
        "colab_type": "text"
      },
      "source": [
        "# Sequence\n",
        "\n",
        "The sequence is simply a string."
      ]
    },
    {
      "cell_type": "code",
      "metadata": {
        "id": "kO5WkRmkrijX",
        "colab_type": "code",
        "colab": {}
      },
      "source": [
        "sequence = 'ATGCG'"
      ],
      "execution_count": 0,
      "outputs": []
    },
    {
      "cell_type": "markdown",
      "metadata": {
        "id": "Jgzw75PTrt9h",
        "colab_type": "text"
      },
      "source": [
        "# Initializing matrices\n",
        "\n",
        "We can write a simple utility function to initialize matrices that will be useful afterwards.It takes the desired number of rows, the desired of columns and the value to fill the matrix . If the third parameter is not provided, the matrix is filled with zeros by default."
      ]
    },
    {
      "cell_type": "code",
      "metadata": {
        "id": "apN0EAJNssyR",
        "colab_type": "code",
        "colab": {}
      },
      "source": [
        "def initialize_matrix(dim1, dim2, value=0):\n",
        "    F = []\n",
        "    for i in range(0, dim1):\n",
        "        F.append([])\n",
        "        for j in range(0,dim2):\n",
        "            F[i].append(value)\n",
        "    return F\n",
        "            "
      ],
      "execution_count": 0,
      "outputs": []
    },
    {
      "cell_type": "markdown",
      "metadata": {
        "id": "MJAXaM3yt23h",
        "colab_type": "text"
      },
      "source": [
        "# Visualizing matrices\n",
        "\n",
        "For visualization purposed only we implement some printing functions. They are not important for the sake of the solution and the details of the implementation can be ignored."
      ]
    },
    {
      "cell_type": "code",
      "metadata": {
        "id": "diVBN_7-uZRa",
        "colab_type": "code",
        "colab": {}
      },
      "source": [
        "def print_matrix(matrix, axis1,axis2):\n",
        "    w = '{:<10}'\n",
        "    print(w.format('') + w.format('<sos>') + ''.join([w.format(char) for char in axis2]) + w.format('<eos>'))\n",
        "    for i, row in enumerate(matrix):\n",
        "        print(w.format(axis1[i]) + ''.join(['{:<10.2e}'.format(item) for item in row]))\n",
        "\n",
        "def print_matrix_p(matrix, axis1, axis2):\n",
        "    w = '{:<10}'\n",
        "    print(w.format('') + w.format('<sos>') + ''.join([w.format(char) for char in axis2])+w.format('eos'))\n",
        "    for i, row in enumerate(matrix):\n",
        "        print(w.format(axis1[i]) + ''.join(['{:<10s}'.format(item) for item in row]))\n"
      ],
      "execution_count": 0,
      "outputs": []
    },
    {
      "cell_type": "markdown",
      "metadata": {
        "id": "OJQul0fjDriP",
        "colab_type": "text"
      },
      "source": [
        "# Forward algorithm\n",
        "\n",
        "We start by initializing matrix F that will contain as many rows as there are states and as many columns as there are symbols in the sequence plus two additional columns (the first(e.g: it's same as <sos>) and the last(e.g: it's same as <eos>)). The probability of starting from the begin state is 1 so we set the first elements of the matrix to 1."
      ]
    },
    {
      "cell_type": "code",
      "metadata": {
        "id": "HLmabpDXEfFG",
        "colab_type": "code",
        "colab": {
          "base_uri": "https://localhost:8080/",
          "height": 122
        },
        "outputId": "e9f47f59-7f69-4784-bcaf-04301617c896"
      },
      "source": [
        "F = initialize_matrix(len(states), len(sequence)+2)\n",
        "F[0][0] = 1\n",
        "print_matrix(F,states, sequence)"
      ],
      "execution_count": 39,
      "outputs": [
        {
          "output_type": "stream",
          "text": [
            "          <sos>     A         T         G         C         G         <eos>     \n",
            "b         1.00e+00  0.00e+00  0.00e+00  0.00e+00  0.00e+00  0.00e+00  0.00e+00  \n",
            "y         0.00e+00  0.00e+00  0.00e+00  0.00e+00  0.00e+00  0.00e+00  0.00e+00  \n",
            "n         0.00e+00  0.00e+00  0.00e+00  0.00e+00  0.00e+00  0.00e+00  0.00e+00  \n",
            "e         0.00e+00  0.00e+00  0.00e+00  0.00e+00  0.00e+00  0.00e+00  0.00e+00  \n"
          ],
          "name": "stdout"
        }
      ]
    },
    {
      "cell_type": "markdown",
      "metadata": {
        "id": "GaO890QKHpf-",
        "colab_type": "text"
      },
      "source": [
        "Next, we calculate the values for the first symbol. For each state, it is the probability of transitioning from the begin state to the current state times the probability of emitting the first symbol of the sequence in the current state."
      ]
    },
    {
      "cell_type": "code",
      "metadata": {
        "id": "meF9xNooIV4o",
        "colab_type": "code",
        "colab": {
          "base_uri": "https://localhost:8080/",
          "height": 122
        },
        "outputId": "22485385-d94b-4ea4-fb05-d4916655f8f7"
      },
      "source": [
        "for i in range(1, len(states) -1):\n",
        "    F[i][1] = transitions[(states[0],states[i])] * emissions[states[i]][sequence[0]]\n",
        "\n",
        "print_matrix(F, states, sequence)\n",
        "# F[1][1] = transitions[states[0],states[1]] * emissions[states[1]][sequence[0]]\n",
        "# F[1][1] = transitions[('b','y')] * emissions['y']['A']\n",
        "# F[1][1] = 0.2 * 0.1 \n",
        "# F[1][1] = 0.02\n",
        "# F[1][1] = 2.00e-02\n",
        "# F[2][1] = transitions[states[0],states[2]] * emissions[states[2]][sequence[0]]\n",
        "# F[2][1] = transitions[('b','n')] * emissioms['n']['A']\n",
        "# F[2][1] = 0.8 * 0.25\n",
        "# F[2][1] = 0.2\n",
        "# F[2][1] = 2.00e-01\n",
        "# F[3][1] = transitions[states[0],states[3]] * emissions[states[3]][sequence[0]]\n",
        "# F[3][1] = transitions[('b','e')] * emissions['e']['A']\n",
        "# F[3][1] = 0 * 0\n",
        "# F[3][1] = 0\n",
        "# F[3][1] = 0.00e+00"
      ],
      "execution_count": 40,
      "outputs": [
        {
          "output_type": "stream",
          "text": [
            "          <sos>     A         T         G         C         G         <eos>     \n",
            "b         1.00e+00  0.00e+00  0.00e+00  0.00e+00  0.00e+00  0.00e+00  0.00e+00  \n",
            "y         0.00e+00  2.00e-02  0.00e+00  0.00e+00  0.00e+00  0.00e+00  0.00e+00  \n",
            "n         0.00e+00  2.00e-01  0.00e+00  0.00e+00  0.00e+00  0.00e+00  0.00e+00  \n",
            "e         0.00e+00  0.00e+00  0.00e+00  0.00e+00  0.00e+00  0.00e+00  0.00e+00  \n"
          ],
          "name": "stdout"
        }
      ]
    },
    {
      "cell_type": "markdown",
      "metadata": {
        "id": "jwdUun3bRDRd",
        "colab_type": "text"
      },
      "source": [
        "For all of the other symbols, from the second to the last, we calculate the values as the sum of probabilities. For each state, it is the sum of probabilities of transitioning form any previous state to the current states times the probability of emitting the corresponding symbol of the sequence in the current state times the probability of the previous state."
      ]
    },
    {
      "cell_type": "code",
      "metadata": {
        "id": "mrIeQ2P2R_hQ",
        "colab_type": "code",
        "colab": {
          "base_uri": "https://localhost:8080/",
          "height": 122
        },
        "outputId": "8890d186-e45e-48e1-ebb9-a43a4e33d1e0"
      },
      "source": [
        "# loops on the symbols ,from second symbol to last specify symbol (e.g: 0)\n",
        "for j in range(2, len(sequence) + 1):\n",
        "    # loops on the states, from second state to last state\n",
        "    for i in range(1, len(states) - 1 ):\n",
        "        p_sum = 0\n",
        "        # loops on all of the possible previous states \n",
        "        for k in range(1, len(states) - 1):\n",
        "            p_sum += F[k][j-1] * transitions[(states[k],states[i])] * emissions[states[i]][sequence[j-1]]\n",
        "        F[i][j] = p_sum\n",
        "\n",
        "print_matrix(F, states, sequence)\n",
        "\n",
        "\n"
      ],
      "execution_count": 41,
      "outputs": [
        {
          "output_type": "stream",
          "text": [
            "          <sos>     A         T         G         C         G         <eos>     \n",
            "b         1.00e+00  0.00e+00  0.00e+00  0.00e+00  0.00e+00  0.00e+00  0.00e+00  \n",
            "y         0.00e+00  2.00e-02  3.40e-03  2.59e-03  1.06e-03  3.69e-04  0.00e+00  \n",
            "n         0.00e+00  2.00e-01  4.10e-02  8.37e-03  1.80e-03  4.14e-04  0.00e+00  \n",
            "e         0.00e+00  0.00e+00  0.00e+00  0.00e+00  0.00e+00  0.00e+00  0.00e+00  \n"
          ],
          "name": "stdout"
        }
      ]
    },
    {
      "cell_type": "markdown",
      "metadata": {
        "id": "fn8uA_71bcP9",
        "colab_type": "text"
      },
      "source": [
        "Now, we need to calculate the final value. It is the sum of probabilities of transitioning from any previous state to the end state times the probability of the previous state."
      ]
    },
    {
      "cell_type": "code",
      "metadata": {
        "id": "EIZ1biNecR7l",
        "colab_type": "code",
        "colab": {
          "base_uri": "https://localhost:8080/",
          "height": 122
        },
        "outputId": "37feca62-ad82-48a3-9484-86268e9e2f1b"
      },
      "source": [
        "# The final value  is equivalent to the end marker <eos>\n",
        "# of the sentence in end-to-end speech recognition.\n",
        "p_sum = 0\n",
        "for k in range(1, len(states) - 1 ):\n",
        "    p_sum += F[k][len(sequence)] * transitions[(states[k], states[-1])]\n",
        "\n",
        "F[-1][-1] = p_sum\n",
        "print_matrix(F, states, sequence)\n"
      ],
      "execution_count": 42,
      "outputs": [
        {
          "output_type": "stream",
          "text": [
            "          <sos>     A         T         G         C         G         <eos>     \n",
            "b         1.00e+00  0.00e+00  0.00e+00  0.00e+00  0.00e+00  0.00e+00  0.00e+00  \n",
            "y         0.00e+00  2.00e-02  3.40e-03  2.59e-03  1.06e-03  3.69e-04  0.00e+00  \n",
            "n         0.00e+00  2.00e-01  4.10e-02  8.37e-03  1.80e-03  4.14e-04  0.00e+00  \n",
            "e         0.00e+00  0.00e+00  0.00e+00  0.00e+00  0.00e+00  0.00e+00  7.83e-05  \n"
          ],
          "name": "stdout"
        }
      ]
    },
    {
      "cell_type": "markdown",
      "metadata": {
        "id": "RAxU4M48c9qS",
        "colab_type": "text"
      },
      "source": [
        "We can now put everything into a function that takes states, transitions, emissions and a sequence and returns a matrix F."
      ]
    },
    {
      "cell_type": "code",
      "metadata": {
        "id": "imJISkWegLO-",
        "colab_type": "code",
        "colab": {}
      },
      "source": [
        "def forward(states, transitions, emissions, sequence):\n",
        "    # initialize matrix, set <sos> to 1.\n",
        "    F = initialize_matrix(len(states), len(sequence)+2)\n",
        "    F[0][0] = 1\n",
        "    # first symbol(e.g: 'A') of sequence , initialize hmm state\n",
        "    # Question:Why len(states) -1, not len(staes)\n",
        "    # Reply: Because last state has no emit probabilty.\n",
        "    #        It only serves as a link.\n",
        "    for i in range(1, len(states) - 1):\n",
        "        F[i][1] = transitions[(states[0],states[i])] * emissions[states[i]][sequence[0]]\n",
        "    \n",
        "    # Question:Why len(squence) + 1?\n",
        "    # Reply: Because if you want to compute last symbol(e.g.: 'G').\n",
        "    #        range function is [start,stop).\n",
        "    for j in range(2, len(sequence) + 1 ):\n",
        "        for i in range(1, len(states) - 1):\n",
        "            p_sum = 0\n",
        "            for k in range(1, len(states) - 1 ):\n",
        "                # probabilty of previous symbol  * \n",
        "                # probablity from previous state to current state * \n",
        "                # observing symbol j-1 given current state i \n",
        "                p_sum += F[K][j-1] * transitions[(states[k],states[i])] * emissions[states[i]][sequence[j-1]]\n",
        "            F[i][j] = p_sum\n",
        "    p_sum = 0\n",
        "    for k in range(1, len(states) -1 ):\n",
        "        p_sum += F[k][len(sequence)] * transitions[(states[k], states[-1])]\n",
        "    F[-1][-1] = p_sum\n",
        "    return F\n"
      ],
      "execution_count": 0,
      "outputs": []
    },
    {
      "cell_type": "markdown",
      "metadata": {
        "id": "iVXIp5EiYhzN",
        "colab_type": "text"
      },
      "source": [
        "# Beckward algorithm\n",
        "\n",
        "We start by initializing matrix F that will contain as many rows as there are states and as many columns as there are symbols in the sequence plus two additional columns(the first(e.g.: \\<sos>) and the last(e.g: \\<eos>)). The probability of starting from the end states is 1 so we set the last element of the matrix to 1. \n"
      ]
    },
    {
      "cell_type": "code",
      "metadata": {
        "id": "pBhCHcTCZg8v",
        "colab_type": "code",
        "colab": {
          "base_uri": "https://localhost:8080/",
          "height": 122
        },
        "outputId": "64be5b8a-1166-4e81-a658-c502723bc23a"
      },
      "source": [
        "F = initialize_matrix(len(states), len(sequence) + 2)\n",
        "F[-1][-1] = 1\n",
        "print_matrix(F, states, sequence)\n"
      ],
      "execution_count": 44,
      "outputs": [
        {
          "output_type": "stream",
          "text": [
            "          <sos>     A         T         G         C         G         <eos>     \n",
            "b         0.00e+00  0.00e+00  0.00e+00  0.00e+00  0.00e+00  0.00e+00  0.00e+00  \n",
            "y         0.00e+00  0.00e+00  0.00e+00  0.00e+00  0.00e+00  0.00e+00  0.00e+00  \n",
            "n         0.00e+00  0.00e+00  0.00e+00  0.00e+00  0.00e+00  0.00e+00  0.00e+00  \n",
            "e         0.00e+00  0.00e+00  0.00e+00  0.00e+00  0.00e+00  0.00e+00  1.00e+00  \n"
          ],
          "name": "stdout"
        }
      ]
    },
    {
      "cell_type": "markdown",
      "metadata": {
        "id": "FwFy58t8ZyKe",
        "colab_type": "text"
      },
      "source": [
        "Next, we calulate the values for the last symbol. For each state, it is the probability of transitioning from the current state to the end state.\n"
      ]
    },
    {
      "cell_type": "code",
      "metadata": {
        "id": "Td8dklDraBIW",
        "colab_type": "code",
        "colab": {
          "base_uri": "https://localhost:8080/",
          "height": 122
        },
        "outputId": "1cc59251-6095-474e-fc69-858c6c47cd8e"
      },
      "source": [
        "for i in range(1, len(states) -1):\n",
        "    F[i][-2] = transitions[(states[i], states[-1])]\n",
        "print_matrix(F, states, sequence)"
      ],
      "execution_count": 45,
      "outputs": [
        {
          "output_type": "stream",
          "text": [
            "          <sos>     A         T         G         C         G         <eos>     \n",
            "b         0.00e+00  0.00e+00  0.00e+00  0.00e+00  0.00e+00  0.00e+00  0.00e+00  \n",
            "y         0.00e+00  0.00e+00  0.00e+00  0.00e+00  0.00e+00  1.00e-01  0.00e+00  \n",
            "n         0.00e+00  0.00e+00  0.00e+00  0.00e+00  0.00e+00  1.00e-01  0.00e+00  \n",
            "e         0.00e+00  0.00e+00  0.00e+00  0.00e+00  0.00e+00  0.00e+00  1.00e+00  \n"
          ],
          "name": "stdout"
        }
      ]
    },
    {
      "cell_type": "markdown",
      "metadata": {
        "id": "4GMWuslyaj3f",
        "colab_type": "text"
      },
      "source": [
        "For all of the other symbols, from the second to last to the first, we calculate the values as the sum of probabilities. For each state, it is the sum if probabilities of transitioning from the current state to any succesive state times the probability of emitting the corresponding symbol of the sequence in the successive state times the probability of the successive state."
      ]
    },
    {
      "cell_type": "code",
      "metadata": {
        "id": "Q3LxpiWhl_qJ",
        "colab_type": "code",
        "colab": {
          "base_uri": "https://localhost:8080/",
          "height": 122
        },
        "outputId": "51a844de-b0b9-4e47-8414-d98d52d78a42"
      },
      "source": [
        "# loops on the symbol\n",
        "for j in range(len(sequence) -1, 0, -1):\n",
        "    # loops on the states\n",
        "    for i in range(1, len(states) -1 ):\n",
        "        p_sum = 0\n",
        "        # loops on all of the possible succesive states\n",
        "        for k in range(1, len(states) -1 ):\n",
        "            p_sum += F[k][j+1] * transitions[(states[i],states[k])] * \\\n",
        "                     emissions[states[k]][sequence[j]]                                                                \n",
        "        F[i][j] = p_sum\n",
        "print_matrix(F, states,sequence)"
      ],
      "execution_count": 48,
      "outputs": [
        {
          "output_type": "stream",
          "text": [
            "          <sos>     A         T         G         C         G         <eos>     \n",
            "b         0.00e+00  0.00e+00  0.00e+00  0.00e+00  0.00e+00  0.00e+00  0.00e+00  \n",
            "y         0.00e+00  3.08e-04  3.23e-03  1.04e-02  3.30e-02  1.00e-01  0.00e+00  \n",
            "n         0.00e+00  3.61e-04  1.64e-03  6.12e-03  2.40e-02  1.00e-01  0.00e+00  \n",
            "e         0.00e+00  0.00e+00  0.00e+00  0.00e+00  0.00e+00  0.00e+00  1.00e+00  \n"
          ],
          "name": "stdout"
        }
      ]
    },
    {
      "cell_type": "markdown",
      "metadata": {
        "id": "WmET_NegpbQx",
        "colab_type": "text"
      },
      "source": [
        "Now, we need to calculate the final value. It is the sum of probabilities of transitioning from the begin state to any successive state times the probability of emitting the first symbol of the sequence in the successive state times the probability of the successive state."
      ]
    },
    {
      "cell_type": "code",
      "metadata": {
        "id": "EhJDRwgOqAj7",
        "colab_type": "code",
        "colab": {
          "base_uri": "https://localhost:8080/",
          "height": 122
        },
        "outputId": "6594f467-9a38-4f66-8094-ecedb4619855"
      },
      "source": [
        "p_sum = 0\n",
        "for k in range(1, len(states) -1):\n",
        "    p_sum += F[k][1] * transitions[(states[0],states[k])] * emissions[states[k]][sequence[0]]\n",
        "F[0][0] = p_sum\n",
        "print_matrix(F, states, sequence)"
      ],
      "execution_count": 49,
      "outputs": [
        {
          "output_type": "stream",
          "text": [
            "          <sos>     A         T         G         C         G         <eos>     \n",
            "b         7.83e-05  0.00e+00  0.00e+00  0.00e+00  0.00e+00  0.00e+00  0.00e+00  \n",
            "y         0.00e+00  3.08e-04  3.23e-03  1.04e-02  3.30e-02  1.00e-01  0.00e+00  \n",
            "n         0.00e+00  3.61e-04  1.64e-03  6.12e-03  2.40e-02  1.00e-01  0.00e+00  \n",
            "e         0.00e+00  0.00e+00  0.00e+00  0.00e+00  0.00e+00  0.00e+00  1.00e+00  \n"
          ],
          "name": "stdout"
        }
      ]
    },
    {
      "cell_type": "markdown",
      "metadata": {
        "id": "XkS8hb7wqwre",
        "colab_type": "text"
      },
      "source": [
        "Now we can put everything into a function that takes states,transitions, emissions and a sequence and returns a matrix F."
      ]
    },
    {
      "cell_type": "code",
      "metadata": {
        "id": "yTBUwhtErA3c",
        "colab_type": "code",
        "colab": {}
      },
      "source": [
        "def backward(states, transitions, emissions,sequence):\n",
        "    # initialize matrix, set last symbol (e.g: <eos>) to 1.\n",
        "    F = initialize_matrix(len(states), len(sequence) + 2)\n",
        "    F[-1][-1] = 1\n",
        "    # at the second to last symbol and  last state to initialize matrix\n",
        "    for i in range(1, len(states) -1):\n",
        "        F[i][-2] = transitions[(states[i], states[-1])]\n",
        "    \n",
        "    for j in range(len(sequence) -1, 0 , -1):\n",
        "        for i in range(1, len(states) -1):\n",
        "            p_sum = 0\n",
        "            for k in range(1, len(states) -1):\n",
        "                p_sum += F[k][j+1] * \\\n",
        "                         transitions[(states[i], states[k])] * \\\n",
        "                         emissions[states[k]][sequence[j]]\n",
        "            F[i][j] = p_sum\n",
        "\n",
        "\n",
        "    p_sum = 0\n",
        "    for k in range(1, len(states) -1):\n",
        "        p_sum += F[k][1] * \\\n",
        "                 transitions[(states[0],states[k])] * \\\n",
        "                 emissions[states[k]][sequence[0]]\n",
        "    F[0][0] = p_sum\n",
        "    return F"
      ],
      "execution_count": 0,
      "outputs": []
    },
    {
      "cell_type": "markdown",
      "metadata": {
        "id": "wRqvlnpIuBxm",
        "colab_type": "text"
      },
      "source": [
        "# Viterbi algorithm\n",
        "\n",
        "We start by initializing matrice F and FP that will contain as many rows as there are states and as many columns as there are symbols in the sequence plus two additional columns(the first(e.g.: \\<sos>) and the last(e.g.: \\<eos>)). Matrix FP is filled with 'b' symbols that indicate the begin state. The probability of starting from the begin state is 1 so we set the first element of the matrix F to 1."
      ]
    },
    {
      "cell_type": "code",
      "metadata": {
        "id": "x-8xwf5wwxny",
        "colab_type": "code",
        "colab": {
          "base_uri": "https://localhost:8080/",
          "height": 258
        },
        "outputId": "de4fdbce-4a47-49c6-b09e-3e8d143ae853"
      },
      "source": [
        "F = initialize_matrix(len(states), len(sequence) + 2)\n",
        "FP = initialize_matrix(len(states), len(sequence) + 2, states[0])\n",
        "F[0][0] = 1\n",
        "print_matrix(F, states, sequence)\n",
        "print(\"\\n\\n\")\n",
        "print_matrix_p(FP, states, sequence)"
      ],
      "execution_count": 55,
      "outputs": [
        {
          "output_type": "stream",
          "text": [
            "          <sos>     A         T         G         C         G         <eos>     \n",
            "b         1.00e+00  0.00e+00  0.00e+00  0.00e+00  0.00e+00  0.00e+00  0.00e+00  \n",
            "y         0.00e+00  0.00e+00  0.00e+00  0.00e+00  0.00e+00  0.00e+00  0.00e+00  \n",
            "n         0.00e+00  0.00e+00  0.00e+00  0.00e+00  0.00e+00  0.00e+00  0.00e+00  \n",
            "e         0.00e+00  0.00e+00  0.00e+00  0.00e+00  0.00e+00  0.00e+00  0.00e+00  \n",
            "\n",
            "\n",
            "\n",
            "          <sos>     A         T         G         C         G         eos       \n",
            "b         b         b         b         b         b         b         b         \n",
            "y         b         b         b         b         b         b         b         \n",
            "n         b         b         b         b         b         b         b         \n",
            "e         b         b         b         b         b         b         b         \n"
          ],
          "name": "stdout"
        }
      ]
    },
    {
      "cell_type": "markdown",
      "metadata": {
        "id": "1ez5I0rtxnQO",
        "colab_type": "text"
      },
      "source": [
        "Next, we calculate the values for the first symbol. For each state, it is the probability of transitioning from the begin state to the current state times the probability of emitting the first symbol of the sequence in the current state."
      ]
    },
    {
      "cell_type": "code",
      "metadata": {
        "id": "A-eKK37yyIyc",
        "colab_type": "code",
        "colab": {
          "base_uri": "https://localhost:8080/",
          "height": 122
        },
        "outputId": "dd4c4c7e-0201-46c6-8a06-2cbf067d8ef3"
      },
      "source": [
        "for i in range(1, len(states) -1):\n",
        "    F[i][1] = transitions[(states[0], states[i])] * \\\n",
        "              emissions[states[i]][sequence[0]]\n",
        "print_matrix(F,states, sequence)\n"
      ],
      "execution_count": 56,
      "outputs": [
        {
          "output_type": "stream",
          "text": [
            "          <sos>     A         T         G         C         G         <eos>     \n",
            "b         1.00e+00  0.00e+00  0.00e+00  0.00e+00  0.00e+00  0.00e+00  0.00e+00  \n",
            "y         0.00e+00  2.00e-02  0.00e+00  0.00e+00  0.00e+00  0.00e+00  0.00e+00  \n",
            "n         0.00e+00  2.00e-01  0.00e+00  0.00e+00  0.00e+00  0.00e+00  0.00e+00  \n",
            "e         0.00e+00  0.00e+00  0.00e+00  0.00e+00  0.00e+00  0.00e+00  0.00e+00  \n"
          ],
          "name": "stdout"
        }
      ]
    },
    {
      "cell_type": "markdown",
      "metadata": {
        "id": "7zgO7VuvzjS2",
        "colab_type": "text"
      },
      "source": [
        "In order to choose the maximum probability at each of the following steps we will need to find the maximum in a list of values. It will also be useful to know the index of the state that has this maximum probability so that we can set the corresponding pointer. Therefore, we implement a simple function that, given a list of values, returns the maximum value and the index of the maximum value.\n"
      ]
    },
    {
      "cell_type": "code",
      "metadata": {
        "id": "SRcuGu4L0fuD",
        "colab_type": "code",
        "colab": {}
      },
      "source": [
        "def get_max_val_index(values):\n",
        "    max_val = values[0]\n",
        "    max_index = 0 \n",
        "    for index, val in enumerate(values):\n",
        "        if val > max_val:\n",
        "            max_val = val\n",
        "            max_index = index\n",
        "    return max_val, max_index"
      ],
      "execution_count": 0,
      "outputs": []
    },
    {
      "cell_type": "markdown",
      "metadata": {
        "id": "zDFma3UV1Dim",
        "colab_type": "text"
      },
      "source": [
        "For all of the other symbols, from the second to the last, we calculate the values as the maximum of probabilities. **For each states,it is the maximum of probabilities of transitioning from any previous state to the current state times the probability of the provious state.** We also set the corresponding pointers accordingly.\n"
      ]
    },
    {
      "cell_type": "code",
      "metadata": {
        "id": "dmX7z7VF17Oq",
        "colab_type": "code",
        "colab": {
          "base_uri": "https://localhost:8080/",
          "height": 258
        },
        "outputId": "eae62590-a170-43e1-9c6d-be72c5014704"
      },
      "source": [
        "# loops on the symbol, from the second to the last, it excluldes <eos>.\n",
        "for j in range(2, len(sequence) + 1):\n",
        "    # loops on the states, from second state(e.g: 'y')\n",
        "    # to third state(e.g.: 'n'), \n",
        "    # it excludes the last state(e.g.: 'e').\n",
        "    for i in range(1, len(states) -1):\n",
        "        values = []\n",
        "        # loops on all of the possible previous states\n",
        "        for k in range(1, len(states) -1):\n",
        "            # appends the value to the list(e.g.: values)\n",
        "            values.append(F[k][j-1] * \n",
        "                          transitions[(states[k],states[i])] * \n",
        "                          emissions[states[i]][sequence[j-1]])\n",
        "        # finds the maximum and the index of the maximum in the list\n",
        "        max_val, max_index = get_max_val_index(values)\n",
        "        # sets the probability to the maximum probability\n",
        "        F[i][j] = max_val\n",
        "        # because now it starts from second state, \n",
        "        # so it should be puls one. \n",
        "        FP[i][j] = states[max_index + 1]\n",
        "    \n",
        "print_matrix(F, states, sequence)\n",
        "print(\"\\n\\n\")\n",
        "print_matrix_p(FP, states, sequence)\n",
        "\n"
      ],
      "execution_count": 62,
      "outputs": [
        {
          "output_type": "stream",
          "text": [
            "          <sos>     A         T         G         C         G         <eos>     \n",
            "b         1.00e+00  0.00e+00  0.00e+00  0.00e+00  0.00e+00  0.00e+00  0.00e+00  \n",
            "y         0.00e+00  2.00e-02  2.00e-03  1.60e-03  4.48e-04  1.25e-04  0.00e+00  \n",
            "n         0.00e+00  2.00e-01  4.00e-02  8.00e-03  1.60e-03  3.20e-04  0.00e+00  \n",
            "e         0.00e+00  0.00e+00  0.00e+00  0.00e+00  0.00e+00  0.00e+00  0.00e+00  \n",
            "\n",
            "\n",
            "\n",
            "          <sos>     A         T         G         C         G         eos       \n",
            "b         b         b         b         b         b         b         b         \n",
            "y         b         b         n         n         y         y         b         \n",
            "n         b         b         n         n         n         n         b         \n",
            "e         b         b         b         b         b         b         b         \n"
          ],
          "name": "stdout"
        }
      ]
    },
    {
      "cell_type": "markdown",
      "metadata": {
        "id": "EsG29vwG6xnQ",
        "colab_type": "text"
      },
      "source": [
        "Now, we need to calculate the final value, It is the maximum of probabilities of transitioning from any previous state to the end state times the probability of the previous state."
      ]
    },
    {
      "cell_type": "code",
      "metadata": {
        "id": "dFQbyiDf7S5u",
        "colab_type": "code",
        "colab": {
          "base_uri": "https://localhost:8080/",
          "height": 258
        },
        "outputId": "865c17f4-7537-4abf-b718-b4c5db8faff1"
      },
      "source": [
        "values = []\n",
        "for k in range(1, len(states) -1 ):\n",
        "    values.append(F[k][len(sequence)] * \n",
        "                  transitions[(states[k], states[-1])])\n",
        "max_val, max_index = get_max_val_index(values)\n",
        "F[-1][-1] = max_val\n",
        "FP[-1][-1] = states[max_index + 1]\n",
        "\n",
        "print_matrix(F, states, sequence)\n",
        "print(\"\\n\\n\")\n",
        "print_matrix_p(FP, states, sequence)"
      ],
      "execution_count": 64,
      "outputs": [
        {
          "output_type": "stream",
          "text": [
            "          <sos>     A         T         G         C         G         <eos>     \n",
            "b         1.00e+00  0.00e+00  0.00e+00  0.00e+00  0.00e+00  0.00e+00  0.00e+00  \n",
            "y         0.00e+00  2.00e-02  2.00e-03  1.60e-03  4.48e-04  1.25e-04  0.00e+00  \n",
            "n         0.00e+00  2.00e-01  4.00e-02  8.00e-03  1.60e-03  3.20e-04  0.00e+00  \n",
            "e         0.00e+00  0.00e+00  0.00e+00  0.00e+00  0.00e+00  0.00e+00  3.20e-05  \n",
            "\n",
            "\n",
            "\n",
            "          <sos>     A         T         G         C         G         eos       \n",
            "b         b         b         b         b         b         b         b         \n",
            "y         b         b         n         n         y         y         b         \n",
            "n         b         b         n         n         n         n         b         \n",
            "e         b         b         b         b         b         b         n         \n"
          ],
          "name": "stdout"
        }
      ]
    },
    {
      "cell_type": "markdown",
      "metadata": {
        "id": "xUoZVEbh8cv_",
        "colab_type": "text"
      },
      "source": [
        "we can now put everything into a function that takes states, transtions, emissions and a sequence and returns a matrix F and a matrix FP of pinters."
      ]
    },
    {
      "cell_type": "code",
      "metadata": {
        "id": "tEqAwtl78zxg",
        "colab_type": "code",
        "colab": {}
      },
      "source": [
        "def viterbi(states, transitions, emissions, sequence):\n",
        "    # initialize two matrix,\n",
        "    F = initialize_matrix(len(states), len(sequence) + 2)\n",
        "    FP = initialize_matrix(len(states), len(sequence) + 2, states[0])\n",
        "    F[0][0] = 1 \n",
        "\n",
        "    for i in range(1, len(states) -1 ):\n",
        "        F[i][1] = transitions[(states[0], states[i])] * \\\n",
        "                  emissions[states[i]][sequence[0]]\n",
        "    \n",
        "    for j in range(2, len(sequence) + 1 ):\n",
        "        for i in range(1, len(states) -1 ):\n",
        "            values = []\n",
        "            for k in range(1, len(states) -1 ):\n",
        "                values.append(F[k][j-1] * \n",
        "                              transitions[(states[k], states[i])] *\n",
        "                              emissions[states[i]][sequence[j-1]])\n",
        "            max_val, max_index = get_max_val_index(values)\n",
        "            F[i][j] = max_val\n",
        "            FP[i][j] = states[max_index + 1]\n",
        "    values = []\n",
        "    for k in range(1, len(states) -1 ):\n",
        "        values.append(F[k][len(sequence)] * \n",
        "                      transitions[(states[k], states[-1])])\n",
        "    max_val, max_index = get_max_val_index(values)\n",
        "    F[-1][-1] = max_val\n",
        "    FP[-1][-1] = states[max_index + 1]\n",
        "    return F, FP"
      ],
      "execution_count": 0,
      "outputs": []
    },
    {
      "cell_type": "markdown",
      "metadata": {
        "id": "tpl30qBSAYYR",
        "colab_type": "text"
      },
      "source": [
        "In order to traceback the path we need to start from the end state and move through the FP matrix, starts from the last element of the matrix and  moves through the matrix appending, at each step, the current state to the path variable."
      ]
    },
    {
      "cell_type": "code",
      "metadata": {
        "id": "U_gdDfJ3DFWx",
        "colab_type": "code",
        "colab": {}
      },
      "source": [
        "def traceback(states, FP):\n",
        "    # the last element of the path is the end state\n",
        "    path = ['e']\n",
        "    # the current state is the one written in the last cell \n",
        "    # of the matrix \n",
        "    current = FP[-1][-1]\n",
        "    # Loops on the symbols \n",
        "    for i in range(len(FP[0]) - 2, 0, -1):\n",
        "        # appends the current state to the path\n",
        "        path = [current] + path\n",
        "        # finds the index of the current state in the list\n",
        "        # of states and moves to the corresponding row of FP\n",
        "        current = FP[states.index(current)][i]\n",
        "        # the first element of the path is the begin state\n",
        "    path = ['b'] + path\n",
        "    # coverts the  list to a string where elements \n",
        "    # are separated by space\n",
        "    return ' '.join(path)"
      ],
      "execution_count": 0,
      "outputs": []
    },
    {
      "cell_type": "markdown",
      "metadata": {
        "id": "G5t1A8wLF1CS",
        "colab_type": "text"
      },
      "source": [
        "Now, we can visualize the most likely path we obtained."
      ]
    },
    {
      "cell_type": "code",
      "metadata": {
        "id": "xInCMbfnF_KQ",
        "colab_type": "code",
        "colab": {
          "base_uri": "https://localhost:8080/",
          "height": 51
        },
        "outputId": "4b0aa1f1-27fb-4d57-b4e6-f70dc020699d"
      },
      "source": [
        "path = traceback(states, FP)\n",
        "print('<sos>'+ ' '.join(sequence) + '<eos>')\n",
        "print(path)"
      ],
      "execution_count": 69,
      "outputs": [
        {
          "output_type": "stream",
          "text": [
            "<sos>A T G C G<eos>\n",
            "b n n n n n e\n"
          ],
          "name": "stdout"
        }
      ]
    }
  ]
}
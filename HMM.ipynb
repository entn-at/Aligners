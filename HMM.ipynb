{
  "nbformat": 4,
  "nbformat_minor": 0,
  "metadata": {
    "colab": {
      "name": "HMM.ipynb",
      "provenance": [],
      "authorship_tag": "ABX9TyN1KHJdOq0OSymCDy63F0p2",
      "include_colab_link": true
    },
    "kernelspec": {
      "name": "python3",
      "display_name": "Python 3"
    }
  },
  "cells": [
    {
      "cell_type": "markdown",
      "metadata": {
        "id": "view-in-github",
        "colab_type": "text"
      },
      "source": [
        "<a href=\"https://colab.research.google.com/github/shanguanma/Aligners/blob/master/HMM.ipynb\" target=\"_parent\"><img src=\"https://colab.research.google.com/assets/colab-badge.svg\" alt=\"Open In Colab\"/></a>"
      ]
    },
    {
      "cell_type": "code",
      "metadata": {
        "id": "Q4S1PETOFqt2",
        "colab_type": "code",
        "colab": {}
      },
      "source": [
        ""
      ],
      "execution_count": 0,
      "outputs": []
    },
    {
      "cell_type": "markdown",
      "metadata": {
        "id": "Jz4vSWmSFtLl",
        "colab_type": "text"
      },
      "source": [
        "# Implementation of HMM algorithms\n",
        "\n",
        "# Choosing the appropriate data structures\n",
        "\n",
        "You can choose any data structure to represent your HMM as long as your implementation works. The important thing to bear in mind is that your nodel needs to contain:\n",
        "\n",
        "- N states\n",
        "  Represented by characters, strings or numbers. It can include the first and the last state explicity.\n",
        "- A set of transition probabilities$\\{{a_{aj}}\\}$\n",
        "\n",
        "  ${a_{kj}} = P(\\pi(i)= j |\\pi(i-1) =k) $\n",
        "\n",
        "  The probability of being in the state j at step i given that at step i-1 we were in the state k.\n",
        "- A set of emission probabilities$\\{{e_k(c)}\\}$\n",
        "  $e_k(c) = P(s_i = c | \\pi(i) = k)$\n",
        "\n",
        "  The probability of observing the symbol c at the i-th position sequence given that at the i-th step we are in the state k.\n",
        "\n",
        "One possible representation is described below."
      ]
    },
    {
      "cell_type": "code",
      "metadata": {
        "id": "80cdRjyyGDAf",
        "colab_type": "code",
        "colab": {}
      },
      "source": [
        "| "
      ],
      "execution_count": 0,
      "outputs": []
    }
  ]
}